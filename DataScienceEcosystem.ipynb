{
  "metadata": {
    "kernelspec": {
      "name": "python",
      "display_name": "Python (Pyodide)",
      "language": "python"
    },
    "language_info": {
      "codemirror_mode": {
        "name": "python",
        "version": 3
      },
      "file_extension": ".py",
      "mimetype": "text/x-python",
      "name": "python",
      "nbconvert_exporter": "python",
      "pygments_lexer": "ipython3",
      "version": "3.8"
    }
  },
  "nbformat_minor": 5,
  "nbformat": 4,
  "cells": [
    {
      "id": "e1d76753-b5c7-4675-a284-ebe2bc657716",
      "cell_type": "markdown",
      "source": "# Data Science Tools and Ecosystem",
      "metadata": {}
    },
    {
      "id": "2da70f46-a3e0-4e79-8945-88220311f21b",
      "cell_type": "markdown",
      "source": "In this notebook, Data Science Tools and Ecosystem are summarized.",
      "metadata": {}
    },
    {
      "id": "33da61ef-56e6-4bc5-974b-520f497eec3c",
      "cell_type": "markdown",
      "source": "Some of the popular languages that Data Scientists use are:\n* Python\n* R\n* SQL",
      "metadata": {}
    },
    {
      "id": "4db94944-0403-45a2-b230-a9fa9a88cdc5",
      "cell_type": "markdown",
      "source": "Some of the commonly used libraries used by Data Scientists include:\n* Numpy\n* Pandas\n* Matplotlib",
      "metadata": {}
    },
    {
      "id": "1d375af1-f7f0-44ef-a688-59f615812062",
      "cell_type": "markdown",
      "source": "| Data Science Tools |\n|---|\n|Pandas|\n|Spark|\n|Hadoop|\n",
      "metadata": {}
    },
    {
      "id": "85146ce6-3cdc-4803-8f10-dfcc2fdcb1d0",
      "cell_type": "markdown",
      "source": "### Below are a few examples of evaluating arithmetic expressions in Python",
      "metadata": {}
    },
    {
      "id": "47616cb3-c2bb-4dd9-a408-31cdd5c992d3",
      "cell_type": "code",
      "source": "x = (3*4)+5 # This a simple arithmetic expression to multiply then add integers\nprint(x)",
      "metadata": {
        "trusted": true
      },
      "outputs": [],
      "execution_count": null
    },
    {
      "id": "551d3dd2-dd28-44b2-a8d2-583836050bdb",
      "cell_type": "code",
      "source": "def min_to_hours(x):\n    return round(x/60,2)\nx = 200\nprint(min_to_hours(x))",
      "metadata": {
        "trusted": true
      },
      "outputs": [],
      "execution_count": null
    },
    {
      "id": "224ed3a5-fd3e-4cf0-bcdd-9cce3e8a822a",
      "cell_type": "markdown",
      "source": "**Objectives:**\n- Python\n- SQL\n- R\n",
      "metadata": {}
    },
    {
      "id": "188597f7-f68f-4c3a-9a5d-89dc7447f798",
      "cell_type": "markdown",
      "source": "## Author\nBurak Karakaya",
      "metadata": {}
    }
  ]
}